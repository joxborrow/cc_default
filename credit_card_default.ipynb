{
 "cells": [
  {
   "cell_type": "markdown",
   "metadata": {},
   "source": [
    "# Credit Card Default\n",
    "\n",
    "## Problem Statement\n",
    "\n",
    "A key question for many financial institutions is whether an individual or entity will default on a loan. This important question can have wide implications, not just for a single institution, but also for economies as a whole.\n",
    "\n",
    "This project will look at predicting the probability of default using machine learning methods. "
   ]
  },
  {
   "cell_type": "code",
   "execution_count": 23,
   "metadata": {},
   "outputs": [],
   "source": [
    "# Imports\n",
    "import numpy as np\n",
    "import pandas as pd\n",
    "import seaborn as sns\n",
    "\n",
    "from sklearn.impute import KNNImputer\n",
    "from sklearn.ensemble import IsolationForest"
   ]
  },
  {
   "cell_type": "markdown",
   "metadata": {},
   "source": [
    "## Data Cleaning"
   ]
  },
  {
   "cell_type": "code",
   "execution_count": 24,
   "metadata": {},
   "outputs": [
    {
     "data": {
      "text/plain": [
       "id                       object\n",
       "default                    bool\n",
       "pct_cc_usage            float64\n",
       "age                       int64\n",
       "num_loans_delayed         int64\n",
       "debt_to_income_ratio    float64\n",
       "mthly_inc_amount        float64\n",
       "num_loans_and_cc          int64\n",
       "num_late_payments         int64\n",
       "num_mtg_loans             int64\n",
       "pymt_delays               int64\n",
       "num_dependents          float64\n",
       "dtype: object"
      ]
     },
     "execution_count": 24,
     "metadata": {},
     "output_type": "execute_result"
    }
   ],
   "source": [
    "# Import the raw data set and recode names\n",
    "\n",
    "\n",
    "name_dict = {'ID':'id',\n",
    "             'Default':'default',\n",
    "             'Prct_uso_tc':'pct_cc_usage',\n",
    "             'Edad':'age',\n",
    "             'Nro_prestao_retrasados':'num_loans_delayed',\n",
    "             'Prct_deuda_vs_ingresos':'debt_to_income_ratio',\n",
    "             'Mto_ingreso_mensual':'mthly_inc_amount',\n",
    "             'Nro_prod_financieros_deuda':'num_loans_and_cc',\n",
    "             'Nro_retraso_60dias':'num_late_payments',\n",
    "             'Nro_creditos_hipotecarios':'num_mtg_loans',\n",
    "             'Nro_retraso_ultm3anios':'pymt_delays',\n",
    "             'Nro_dependiente':'num_dependents'}\n",
    "\n",
    "dtype_dict = {'id':'object',\n",
    "              'default':'bool',\n",
    "              'pct_cc_usage':'float64',\n",
    "              'age':'int64',\n",
    "              'num_loans_delayed':'int64',\n",
    "              'debt_to_income_ratio':'float64',\n",
    "              'mthly_inc_amount':'float64',\n",
    "              'num_loans_and_cc':'int64',\n",
    "              'num_late_payments':'int64',\n",
    "              'num_mtg_loans':'int64',\n",
    "              'pymt_delays':'int64'}\n",
    "\n",
    "raw_data = (pd.read_csv('data/credit_scoring.csv')\n",
    "              .rename(columns=name_dict)\n",
    "              .astype(dtype_dict))\n",
    "\n",
    "raw_data.dtypes"
   ]
  },
  {
   "cell_type": "markdown",
   "metadata": {},
   "source": []
  },
  {
   "cell_type": "code",
   "execution_count": 25,
   "metadata": {},
   "outputs": [
    {
     "data": {
      "text/plain": [
       "(150000, 12)"
      ]
     },
     "metadata": {},
     "output_type": "display_data"
    },
    {
     "data": {
      "text/plain": [
       "id                       0.000000\n",
       "default                  0.000000\n",
       "pct_cc_usage             0.000000\n",
       "age                      0.000000\n",
       "num_loans_delayed        0.000000\n",
       "debt_to_income_ratio     0.000000\n",
       "mthly_inc_amount        19.820667\n",
       "num_loans_and_cc         0.000000\n",
       "num_late_payments        0.000000\n",
       "num_mtg_loans            0.000000\n",
       "pymt_delays              0.000000\n",
       "num_dependents           2.616000\n",
       "dtype: float64"
      ]
     },
     "execution_count": 25,
     "metadata": {},
     "output_type": "execute_result"
    }
   ],
   "source": [
    "# Calculate the % null by column\n",
    "display(raw_data.shape)\n",
    "(raw_data.isnull().sum()/raw_data.shape[0])*100"
   ]
  },
  {
   "cell_type": "code",
   "execution_count": 26,
   "metadata": {},
   "outputs": [],
   "source": [
    "# Impute the missing data using KNN\n",
    "# Note: This can take several minutes\n",
    "imputer = KNNImputer(n_neighbors=5, weights='uniform')\n",
    "imp_data = imputer.fit_transform(raw_data)\n"
   ]
  },
  {
   "cell_type": "code",
   "execution_count": 27,
   "metadata": {},
   "outputs": [
    {
     "data": {
      "text/html": [
       "<div>\n",
       "<style scoped>\n",
       "    .dataframe tbody tr th:only-of-type {\n",
       "        vertical-align: middle;\n",
       "    }\n",
       "\n",
       "    .dataframe tbody tr th {\n",
       "        vertical-align: top;\n",
       "    }\n",
       "\n",
       "    .dataframe thead th {\n",
       "        text-align: right;\n",
       "    }\n",
       "</style>\n",
       "<table border=\"1\" class=\"dataframe\">\n",
       "  <thead>\n",
       "    <tr style=\"text-align: right;\">\n",
       "      <th></th>\n",
       "      <th>id</th>\n",
       "      <th>default</th>\n",
       "      <th>pct_cc_usage</th>\n",
       "      <th>age</th>\n",
       "      <th>num_loans_delayed</th>\n",
       "      <th>debt_to_income_ratio</th>\n",
       "      <th>mthly_inc_amount</th>\n",
       "      <th>num_loans_and_cc</th>\n",
       "      <th>num_late_payments</th>\n",
       "      <th>num_mtg_loans</th>\n",
       "      <th>pymt_delays</th>\n",
       "      <th>num_dependents</th>\n",
       "    </tr>\n",
       "  </thead>\n",
       "  <tbody>\n",
       "    <tr>\n",
       "      <th>0</th>\n",
       "      <td>1.0</td>\n",
       "      <td>1.0</td>\n",
       "      <td>0.766127</td>\n",
       "      <td>45.0</td>\n",
       "      <td>2.0</td>\n",
       "      <td>0.802982</td>\n",
       "      <td>9120.0</td>\n",
       "      <td>13.0</td>\n",
       "      <td>0.0</td>\n",
       "      <td>6.0</td>\n",
       "      <td>0.0</td>\n",
       "      <td>2.0</td>\n",
       "    </tr>\n",
       "    <tr>\n",
       "      <th>1</th>\n",
       "      <td>2.0</td>\n",
       "      <td>0.0</td>\n",
       "      <td>0.957151</td>\n",
       "      <td>40.0</td>\n",
       "      <td>0.0</td>\n",
       "      <td>0.121876</td>\n",
       "      <td>2600.0</td>\n",
       "      <td>4.0</td>\n",
       "      <td>0.0</td>\n",
       "      <td>0.0</td>\n",
       "      <td>0.0</td>\n",
       "      <td>1.0</td>\n",
       "    </tr>\n",
       "    <tr>\n",
       "      <th>2</th>\n",
       "      <td>3.0</td>\n",
       "      <td>0.0</td>\n",
       "      <td>0.658180</td>\n",
       "      <td>38.0</td>\n",
       "      <td>1.0</td>\n",
       "      <td>0.085113</td>\n",
       "      <td>3042.0</td>\n",
       "      <td>2.0</td>\n",
       "      <td>1.0</td>\n",
       "      <td>0.0</td>\n",
       "      <td>0.0</td>\n",
       "      <td>0.0</td>\n",
       "    </tr>\n",
       "    <tr>\n",
       "      <th>3</th>\n",
       "      <td>4.0</td>\n",
       "      <td>0.0</td>\n",
       "      <td>0.233810</td>\n",
       "      <td>30.0</td>\n",
       "      <td>0.0</td>\n",
       "      <td>0.036050</td>\n",
       "      <td>3300.0</td>\n",
       "      <td>5.0</td>\n",
       "      <td>0.0</td>\n",
       "      <td>0.0</td>\n",
       "      <td>0.0</td>\n",
       "      <td>0.0</td>\n",
       "    </tr>\n",
       "    <tr>\n",
       "      <th>4</th>\n",
       "      <td>5.0</td>\n",
       "      <td>0.0</td>\n",
       "      <td>0.907239</td>\n",
       "      <td>49.0</td>\n",
       "      <td>1.0</td>\n",
       "      <td>0.024926</td>\n",
       "      <td>63588.0</td>\n",
       "      <td>7.0</td>\n",
       "      <td>0.0</td>\n",
       "      <td>1.0</td>\n",
       "      <td>0.0</td>\n",
       "      <td>0.0</td>\n",
       "    </tr>\n",
       "  </tbody>\n",
       "</table>\n",
       "</div>"
      ],
      "text/plain": [
       "    id  default  pct_cc_usage   age  num_loans_delayed  debt_to_income_ratio  \\\n",
       "0  1.0      1.0      0.766127  45.0                2.0              0.802982   \n",
       "1  2.0      0.0      0.957151  40.0                0.0              0.121876   \n",
       "2  3.0      0.0      0.658180  38.0                1.0              0.085113   \n",
       "3  4.0      0.0      0.233810  30.0                0.0              0.036050   \n",
       "4  5.0      0.0      0.907239  49.0                1.0              0.024926   \n",
       "\n",
       "   mthly_inc_amount  num_loans_and_cc  num_late_payments  num_mtg_loans  \\\n",
       "0            9120.0              13.0                0.0            6.0   \n",
       "1            2600.0               4.0                0.0            0.0   \n",
       "2            3042.0               2.0                1.0            0.0   \n",
       "3            3300.0               5.0                0.0            0.0   \n",
       "4           63588.0               7.0                0.0            1.0   \n",
       "\n",
       "   pymt_delays  num_dependents  \n",
       "0          0.0             2.0  \n",
       "1          0.0             1.0  \n",
       "2          0.0             0.0  \n",
       "3          0.0             0.0  \n",
       "4          0.0             0.0  "
      ]
     },
     "metadata": {},
     "output_type": "display_data"
    },
    {
     "data": {
      "text/plain": [
       "id                      0.0\n",
       "default                 0.0\n",
       "pct_cc_usage            0.0\n",
       "age                     0.0\n",
       "num_loans_delayed       0.0\n",
       "debt_to_income_ratio    0.0\n",
       "mthly_inc_amount        0.0\n",
       "num_loans_and_cc        0.0\n",
       "num_late_payments       0.0\n",
       "num_mtg_loans           0.0\n",
       "pymt_delays             0.0\n",
       "num_dependents          0.0\n",
       "dtype: float64"
      ]
     },
     "execution_count": 27,
     "metadata": {},
     "output_type": "execute_result"
    }
   ],
   "source": [
    "# Reconstruct the data frame and check for missing values\n",
    "imp_data = pd.DataFrame(imp_data, columns=raw_data.columns)\n",
    "display(imp_data.head())\n",
    "\n",
    "# Check the imputed data for missing values\n",
    "(imp_data.isnull().sum()/imp_data.shape[0])*100"
   ]
  },
  {
   "cell_type": "code",
   "execution_count": 28,
   "metadata": {},
   "outputs": [
    {
     "data": {
      "text/plain": [
       "id                      float64\n",
       "default                 float64\n",
       "pct_cc_usage            float64\n",
       "age                     float64\n",
       "num_loans_delayed       float64\n",
       "debt_to_income_ratio    float64\n",
       "mthly_inc_amount        float64\n",
       "num_loans_and_cc        float64\n",
       "num_late_payments       float64\n",
       "num_mtg_loans           float64\n",
       "pymt_delays             float64\n",
       "num_dependents          float64\n",
       "dtype: object"
      ]
     },
     "execution_count": 28,
     "metadata": {},
     "output_type": "execute_result"
    }
   ],
   "source": [
    "# Verify data types\n",
    "imp_data.dtypes"
   ]
  },
  {
   "cell_type": "markdown",
   "metadata": {},
   "source": [
    "## Data Exploration"
   ]
  },
  {
   "cell_type": "code",
   "execution_count": 29,
   "metadata": {},
   "outputs": [
    {
     "data": {
      "text/plain": [
       "Text(0, 0.5, 'Count')"
      ]
     },
     "execution_count": 29,
     "metadata": {},
     "output_type": "execute_result"
    },
    {
     "data": {
      "image/png": "[encoded data removed]",
      "text/plain": [
       "<Figure size 640x480 with 1 Axes>"
      ]
     },
     "metadata": {},
     "output_type": "display_data"
    }
   ],
   "source": [
    "# Plot target feature counts\n",
    "ax = sns.countplot(imp_data, x='default')\n",
    "ax.set_title('Default Rates')\n",
    "ax.set_xlabel('Default (1=Yes, 0=No)')\n",
    "ax.set_ylabel('Count')\n"
   ]
  },
  {
   "cell_type": "code",
   "execution_count": 30,
   "metadata": {},
   "outputs": [
    {
     "name": "stdout",
     "output_type": "stream",
     "text": [
      "Default Rate: 6.7%\n"
     ]
    }
   ],
   "source": [
    "# Calculate the default rate\n",
    "default_rate = imp_data['default'].mean()\n",
    "print(f'Default Rate: {default_rate:.1%}')"
   ]
  },
  {
   "cell_type": "code",
   "execution_count": null,
   "metadata": {},
   "outputs": [],
   "source": [
    "# Examine a pairplot\n",
    "# This can take about 30 minutes to run\n",
    "sns.pairplot(imp_data, hue='default')"
   ]
  },
  {
   "cell_type": "code",
   "execution_count": null,
   "metadata": {},
   "outputs": [],
   "source": [
    "# Examine Outliers\n",
    "clf = IsolationForest(random_state=0).fit(imp_data)\n",
    "imp_data['outlier_score'] = clf.predict(imp_data)\n",
    "imp_data['outlier_score'].value_counts()"
   ]
  },
  {
   "cell_type": "code",
   "execution_count": null,
   "metadata": {},
   "outputs": [],
   "source": [
    "# Remove outliers and pairplot\n",
    "imp_no_data = imp_data.query('outlier_score == 1')\n",
    "sns.pairplot(imp_no_data, hue='default')"
   ]
  },
  {
   "cell_type": "code",
   "execution_count": null,
   "metadata": {},
   "outputs": [],
   "source": []
  }
 ],
 "metadata": {
  "kernelspec": {
   "display_name": "cc_default",
   "language": "python",
   "name": "python3"
  },
  "language_info": {
   "codemirror_mode": {
    "name": "ipython",
    "version": 3
   },
   "file_extension": ".py",
   "mimetype": "text/x-python",
   "name": "python",
   "nbconvert_exporter": "python",
   "pygments_lexer": "ipython3",
   "version": "3.13.1"
  }
 },
 "nbformat": 4,
 "nbformat_minor": 2
}
